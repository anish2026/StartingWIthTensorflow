{
  "nbformat": 4,
  "nbformat_minor": 0,
  "metadata": {
    "colab": {
      "name": "TF_3.ipynb",
      "provenance": []
    },
    "kernelspec": {
      "name": "python3",
      "display_name": "Python 3"
    },
    "language_info": {
      "name": "python"
    }
  },
  "cells": [
    {
      "cell_type": "markdown",
      "source": [
        "#Improving Computer Vision Accuracy using Convolutions\n",
        "\n",
        "by Anish Anand\n",
        "\n",
        "So far we have played with three layers to predict the mnist dataset, one imput layer,hidden layer and output layer and we have achieved the accuracy of about 97%. Now our job is to increase the accuracy using the Convolution network. Cpnvolution networks are of many type and it consists many parameters with default value None. Now we will work the mnist dataset and implement the Convolutions to improve the accuracy of the model.\n",
        "\n",
        "\n",
        "Lets see the previous model at one glance first so we will relatively compare that what changes has been actualy made to the new model."
      ],
      "metadata": {
        "id": "EIpmtroN5pT-"
      }
    },
    {
      "cell_type": "code",
      "execution_count": null,
      "metadata": {
        "colab": {
          "base_uri": "https://localhost:8080/"
        },
        "id": "cD9SzfLwF6XS",
        "outputId": "51855063-b05a-4d9d-9511-b36d3721953a"
      },
      "outputs": [
        {
          "output_type": "stream",
          "name": "stdout",
          "text": [
            "Downloading data from https://storage.googleapis.com/tensorflow/tf-keras-datasets/mnist.npz\n",
            "11493376/11490434 [==============================] - 0s 0us/step\n",
            "11501568/11490434 [==============================] - 0s 0us/step\n"
          ]
        }
      ],
      "source": [
        "import tensorflow as tf\n",
        "fmnist=tf.keras.datasets.mnist\n",
        "\n",
        "(training_images,training_labels),(test_images,test_labels)=fmnist.load_data()"
      ]
    },
    {
      "cell_type": "code",
      "source": [
        "# Normalize the pixel values\n",
        "training_images = training_images / 255.0\n",
        "test_images = test_images / 255.0\n",
        "\n",
        "#define the  model\n",
        "# Define the model\n",
        "model = tf.keras.models.Sequential([\n",
        "  tf.keras.layers.Flatten(),\n",
        "  tf.keras.layers.Dense(128, activation=tf.nn.relu),\n",
        "  tf.keras.layers.Dense(10, activation=tf.nn.softmax)\n",
        "])\n",
        "\n",
        "# Setup training parameters\n",
        "model.compile(optimizer='adam', loss='sparse_categorical_crossentropy', metrics=['accuracy'])\n",
        "\n",
        "# Train the model\n",
        "print(f'\\nMODEL TRAINING:')\n",
        "model.fit(training_images, training_labels, epochs=5)\n",
        "\n",
        "# Evaluate on the test set\n",
        "print(f'\\nMODEL EVALUATION:')\n",
        "test_loss = model.evaluate(test_images, test_labels)"
      ],
      "metadata": {
        "colab": {
          "base_uri": "https://localhost:8080/"
        },
        "id": "xOvOFAs9E6sa",
        "outputId": "77b95240-92ae-4a95-8a81-f4b9fa41ecb2"
      },
      "execution_count": null,
      "outputs": [
        {
          "output_type": "stream",
          "name": "stdout",
          "text": [
            "\n",
            "MODEL TRAINING:\n",
            "Epoch 1/5\n",
            "1875/1875 [==============================] - 9s 4ms/step - loss: 0.2594 - accuracy: 0.9266\n",
            "Epoch 2/5\n",
            "1875/1875 [==============================] - 5s 3ms/step - loss: 0.1146 - accuracy: 0.9659\n",
            "Epoch 3/5\n",
            "1875/1875 [==============================] - 5s 3ms/step - loss: 0.0805 - accuracy: 0.9753\n",
            "Epoch 4/5\n",
            "1875/1875 [==============================] - 5s 2ms/step - loss: 0.0586 - accuracy: 0.9820\n",
            "Epoch 5/5\n",
            "1875/1875 [==============================] - 5s 2ms/step - loss: 0.0454 - accuracy: 0.9863\n",
            "\n",
            "MODEL EVALUATION:\n",
            "313/313 [==============================] - 1s 2ms/step - loss: 0.0842 - accuracy: 0.9741\n"
          ]
        }
      ]
    },
    {
      "cell_type": "markdown",
      "source": [
        "#Using Convolution now \n",
        "\n",
        "So here we will redefine our model using Conv2d and try to understand the model and how it is increasing the accuracy of the model."
      ],
      "metadata": {
        "id": "-PHRB_DPHobE"
      }
    },
    {
      "cell_type": "code",
      "source": [
        "# Define the model\n",
        "model = tf.keras.models.Sequential([\n",
        "                                                         \n",
        "  # Add convolutions and max pooling\n",
        "  tf.keras.layers.Conv2D(32, (3,3), activation='relu', input_shape=(28, 28, 1)), #for now just think values are put as randomly\n",
        "  tf.keras.layers.MaxPooling2D(2, 2),\n",
        "  tf.keras.layers.Conv2D(32, (3,3), activation='relu'),\n",
        "  tf.keras.layers.MaxPooling2D(2,2),\n",
        "\n",
        "  # Add the same layers as before,yes these layers will be same as above\n",
        "  tf.keras.layers.Flatten(),\n",
        "  tf.keras.layers.Dense(128, activation='relu'),\n",
        "  tf.keras.layers.Dense(10, activation='softmax')\n",
        "])"
      ],
      "metadata": {
        "id": "xxnEK6x7FaD6"
      },
      "execution_count": null,
      "outputs": []
    },
    {
      "cell_type": "code",
      "source": [
        "#lets know about the model \n",
        "\n",
        "model.summary()"
      ],
      "metadata": {
        "colab": {
          "base_uri": "https://localhost:8080/"
        },
        "id": "zBYrqIOZII3H",
        "outputId": "f8bfd041-4cbd-4bfa-f024-31deb4951600"
      },
      "execution_count": null,
      "outputs": [
        {
          "output_type": "stream",
          "name": "stdout",
          "text": [
            "Model: \"sequential_1\"\n",
            "_________________________________________________________________\n",
            " Layer (type)                Output Shape              Param #   \n",
            "=================================================================\n",
            " conv2d (Conv2D)             (None, 26, 26, 32)        320       \n",
            "                                                                 \n",
            " max_pooling2d (MaxPooling2D  (None, 13, 13, 32)       0         \n",
            " )                                                               \n",
            "                                                                 \n",
            " conv2d_1 (Conv2D)           (None, 11, 11, 32)        9248      \n",
            "                                                                 \n",
            " max_pooling2d_1 (MaxPooling  (None, 5, 5, 32)         0         \n",
            " 2D)                                                             \n",
            "                                                                 \n",
            " flatten_1 (Flatten)         (None, 800)               0         \n",
            "                                                                 \n",
            " dense_2 (Dense)             (None, 128)               102528    \n",
            "                                                                 \n",
            " dense_3 (Dense)             (None, 10)                1290      \n",
            "                                                                 \n",
            "=================================================================\n",
            "Total params: 113,386\n",
            "Trainable params: 113,386\n",
            "Non-trainable params: 0\n",
            "_________________________________________________________________\n"
          ]
        }
      ]
    },
    {
      "cell_type": "markdown",
      "source": [
        "Hey Anish, bro have you notices that conv2d output is 26 , 26 , however the image were 28X28. So the reason is , it just leave the boundaries because it do not get sufficient neighbours for them to compare.\n",
        "\n"
      ],
      "metadata": {
        "id": "nZrrJ0Y7IbWQ"
      }
    },
    {
      "cell_type": "code",
      "source": [
        "model.compile(optimizer='adam',loss='sparse_categorical_crossentropy',metrics=['accuracy'])"
      ],
      "metadata": {
        "id": "r_-vzqdcISm_"
      },
      "execution_count": null,
      "outputs": []
    },
    {
      "cell_type": "code",
      "source": [
        "# Train the model\n",
        "print(f'\\nMODEL TRAINING:')\n",
        "model.fit(training_images, training_labels, epochs=5)\n",
        "\n",
        "# Evaluate on the test set\n",
        "print(f'\\nMODEL EVALUATION:')\n",
        "test_loss = model.evaluate(test_images, test_labels)"
      ],
      "metadata": {
        "colab": {
          "base_uri": "https://localhost:8080/"
        },
        "id": "HShtmYY3JUun",
        "outputId": "b76624fd-fbed-40b4-b135-1d1bb37171be"
      },
      "execution_count": null,
      "outputs": [
        {
          "output_type": "stream",
          "name": "stdout",
          "text": [
            "\n",
            "MODEL TRAINING:\n",
            "Epoch 1/5\n",
            "1875/1875 [==============================] - 54s 28ms/step - loss: 0.1414 - accuracy: 0.9569\n",
            "Epoch 2/5\n",
            "1875/1875 [==============================] - 55s 29ms/step - loss: 0.0465 - accuracy: 0.9852\n",
            "Epoch 3/5\n",
            "1875/1875 [==============================] - 54s 29ms/step - loss: 0.0323 - accuracy: 0.9901\n",
            "Epoch 4/5\n",
            "1875/1875 [==============================] - 53s 28ms/step - loss: 0.0247 - accuracy: 0.9919\n",
            "Epoch 5/5\n",
            "1875/1875 [==============================] - 53s 28ms/step - loss: 0.0190 - accuracy: 0.9937\n",
            "\n",
            "MODEL EVALUATION:\n",
            "313/313 [==============================] - 3s 8ms/step - loss: 0.0305 - accuracy: 0.9895\n"
          ]
        }
      ]
    },
    {
      "cell_type": "markdown",
      "source": [
        "WOWWWWWWWWWWWWWWW !\n",
        "We can easily see that the accuracy jumped to 98% ad we can of course apply call back function to stop epoch once it reached 99%.\n",
        "\n",
        "Look at the code again, and see, step by step how the convolutions were built. Instead of the input layer at the top, you added a Conv2D layer. The parameters are:\n",
        "\n",
        "1.The number of convolutions you want to generate. The value here is purely arbitrary but it's good to use powers of 2 starting from 32.\n",
        "\n",
        "2.The size of the Convolution. In this case, a 3x3 grid.\n",
        "\n",
        "3.The activation function to use. In this case, you used a ReLU, which you might recall is the equivalent of returning x when x>0, else return 0.\n",
        "\n",
        "4.In the first layer, the shape of the input data.\n",
        "\n",
        "#About the Maxpooling2d\n",
        "\n",
        "You'll follow the convolution with a MaxPool2D layer which is designed to compress the image, while maintaining the content of the features that were highlighted by the convlution. By specifying (2,2) for the MaxPooling, the effect is to quarter the size of the image. Without going into too much detail here, the idea is that it creates a 2x2 array of pixels, and picks the biggest one. Thus, it turns 4 pixels into 1. It repeats this across the image, and in doing so, it halves both the number of horizontal and vertical pixels, effectively reducing the image to 25% of the original image.\n"
      ],
      "metadata": {
        "id": "oxeVEO10PpZf"
      }
    },
    {
      "cell_type": "code",
      "source": [
        "#ok, lets try with 20 epochs , i know it will take time , but lets try na \n",
        "\n",
        "# Train the model\n",
        "print(f'\\nMODEL TRAINING:')\n",
        "model.fit(training_images, training_labels, epochs=20)\n",
        "\n",
        "# Evaluate on the test set\n",
        "print(f'\\nMODEL EVALUATION:')\n",
        "test_loss = model.evaluate(test_images, test_labels)"
      ],
      "metadata": {
        "colab": {
          "base_uri": "https://localhost:8080/"
        },
        "id": "KMcT8t4nJcYN",
        "outputId": "dd9f608f-9840-44cd-ccee-bf372b366386"
      },
      "execution_count": null,
      "outputs": [
        {
          "output_type": "stream",
          "name": "stdout",
          "text": [
            "\n",
            "MODEL TRAINING:\n",
            "Epoch 1/20\n",
            "1875/1875 [==============================] - 53s 28ms/step - loss: 0.0152 - accuracy: 0.9947\n",
            "Epoch 2/20\n",
            "1875/1875 [==============================] - 48s 26ms/step - loss: 0.0108 - accuracy: 0.9965\n",
            "Epoch 3/20\n",
            "1875/1875 [==============================] - 46s 25ms/step - loss: 0.0098 - accuracy: 0.9967\n",
            "Epoch 4/20\n",
            "1875/1875 [==============================] - 47s 25ms/step - loss: 0.0090 - accuracy: 0.9968\n",
            "Epoch 5/20\n",
            "1875/1875 [==============================] - 48s 26ms/step - loss: 0.0074 - accuracy: 0.9976\n",
            "Epoch 6/20\n",
            "1875/1875 [==============================] - 50s 27ms/step - loss: 0.0065 - accuracy: 0.9975\n",
            "Epoch 7/20\n",
            "1875/1875 [==============================] - 47s 25ms/step - loss: 0.0051 - accuracy: 0.9983\n",
            "Epoch 8/20\n",
            "1875/1875 [==============================] - 45s 24ms/step - loss: 0.0064 - accuracy: 0.9978\n",
            "Epoch 9/20\n",
            "1875/1875 [==============================] - 45s 24ms/step - loss: 0.0045 - accuracy: 0.9984\n",
            "Epoch 10/20\n",
            "1875/1875 [==============================] - 46s 24ms/step - loss: 0.0041 - accuracy: 0.9987\n",
            "Epoch 11/20\n",
            "1875/1875 [==============================] - 44s 24ms/step - loss: 0.0052 - accuracy: 0.9980\n",
            "Epoch 12/20\n",
            "1875/1875 [==============================] - 45s 24ms/step - loss: 0.0044 - accuracy: 0.9985\n",
            "Epoch 13/20\n",
            "1875/1875 [==============================] - 45s 24ms/step - loss: 0.0046 - accuracy: 0.9986\n",
            "Epoch 14/20\n",
            "1875/1875 [==============================] - 45s 24ms/step - loss: 0.0032 - accuracy: 0.9991\n",
            "Epoch 15/20\n",
            "1875/1875 [==============================] - 45s 24ms/step - loss: 0.0035 - accuracy: 0.9990\n",
            "Epoch 16/20\n",
            "1875/1875 [==============================] - 46s 25ms/step - loss: 0.0043 - accuracy: 0.9985\n",
            "Epoch 17/20\n",
            "1875/1875 [==============================] - 46s 25ms/step - loss: 0.0027 - accuracy: 0.9990\n",
            "Epoch 18/20\n",
            "1875/1875 [==============================] - 48s 25ms/step - loss: 0.0037 - accuracy: 0.9989\n",
            "Epoch 19/20\n",
            "1875/1875 [==============================] - 48s 26ms/step - loss: 0.0038 - accuracy: 0.9989\n",
            "Epoch 20/20\n",
            "1875/1875 [==============================] - 49s 26ms/step - loss: 0.0033 - accuracy: 0.9990\n",
            "\n",
            "MODEL EVALUATION:\n",
            "313/313 [==============================] - 3s 9ms/step - loss: 0.0521 - accuracy: 0.9925\n"
          ]
        }
      ]
    },
    {
      "cell_type": "markdown",
      "source": [
        "I will tell you actually what is the disadvantage of that. Technically , this is called overfitting , in general knowledge we can say oversmart model, lol.\n",
        "Yes it is , suppose you have only seen Red shoes all your life and when I will ask you what is the color of shoe referring my red shoe , you will definitely answer its Red shor. \n",
        "\n",
        "However , if I will ask about bLue shoe , you may confuse ,because all your life you have only seen red shoes.\n",
        "\n",
        "So the technical issue overfitting raises here , the model works extremely well to the test data but it will confuse for the unseen data.\n",
        "\n",
        "##Overfitting concept\n",
        "\n",
        "But while the results might seem really good, the validation results may actually go down, due to something called overfitting. In a nutshell, overfitting occurs when the network learns the data from the training set really well, but it's too specialised to only that data, and as a result is less effective at interpreting other unseen data. For example, if all your life you only saw red shoes, then when you see a red shoe you would be very good at identifying it. But blue suede shoes might confuse you... and you know you should never mess with my blue suede shoes."
      ],
      "metadata": {
        "id": "_42ywLoARPkx"
      }
    },
    {
      "cell_type": "code",
      "source": [
        "################################################################################"
      ],
      "metadata": {
        "id": "mUBjdclgRDlE"
      },
      "execution_count": null,
      "outputs": []
    },
    {
      "cell_type": "markdown",
      "source": [
        "# Visualising my model \n",
        "\n",
        "Visualising the Convolution and pooling \n",
        "\n",
        "In that we will actually see the transfer of images pixels while training and further detection.\n",
        "\n",
        "\n",
        "Let's explore how to show the convolutions graphically. The cell below prints the first 100 labels in the test set, and you can see that the ones at index 0, index 23 and index 28 are all the same value (i.e. 9). They're all shoes. Let's take a look at the result of running the convolution on each, and you'll begin to see common features between them emerge. Now, when the dense layer is training on that data, it's working with a lot less, and it's perhaps finding a commonality between shoes based on this convolution/pooling combination."
      ],
      "metadata": {
        "id": "6VerS73gfX0t"
      }
    },
    {
      "cell_type": "code",
      "source": [
        "print(test_labels[:100])"
      ],
      "metadata": {
        "colab": {
          "base_uri": "https://localhost:8080/"
        },
        "id": "VbuK0E6afU40",
        "outputId": "83383c8f-0262-493b-8098-60c40301ac57"
      },
      "execution_count": null,
      "outputs": [
        {
          "output_type": "stream",
          "name": "stdout",
          "text": [
            "[7 2 1 0 4 1 4 9 5 9 0 6 9 0 1 5 9 7 3 4 9 6 6 5 4 0 7 4 0 1 3 1 3 4 7 2 7\n",
            " 1 2 1 1 7 4 2 3 5 1 2 4 4 6 3 5 5 6 0 4 1 9 5 7 8 9 3 7 4 6 4 3 0 7 0 2 9\n",
            " 1 7 3 2 9 7 7 6 2 7 8 4 7 3 6 1 3 6 9 3 1 4 1 7 6 9]\n"
          ]
        }
      ]
    },
    {
      "cell_type": "code",
      "source": [
        "import matplotlib.pyplot as plt\n",
        "from tensorflow.keras import models\n",
        "\n",
        "f, axarr = plt.subplots(3,4)\n",
        "\n",
        "FIRST_IMAGE=0\n",
        "SECOND_IMAGE=23\n",
        "THIRD_IMAGE=28\n",
        "CONVOLUTION_NUMBER = 1\n",
        "\n",
        "layer_outputs = [layer.output for layer in model.layers]\n",
        "activation_model = tf.keras.models.Model(inputs = model.input, outputs = layer_outputs)\n",
        "\n",
        "for x in range(0,4):\n",
        "  f1 = activation_model.predict(test_images[FIRST_IMAGE].reshape(1, 28, 28, 1))[x]\n",
        "  axarr[0,x].imshow(f1[0, : , :, CONVOLUTION_NUMBER], cmap='inferno')\n",
        "  axarr[0,x].grid(False)\n",
        "  \n",
        "  f2 = activation_model.predict(test_images[SECOND_IMAGE].reshape(1, 28, 28, 1))[x]\n",
        "  axarr[1,x].imshow(f2[0, : , :, CONVOLUTION_NUMBER], cmap='inferno')\n",
        "  axarr[1,x].grid(False)\n",
        "  \n",
        "  f3 = activation_model.predict(test_images[THIRD_IMAGE].reshape(1, 28, 28, 1))[x]\n",
        "  axarr[2,x].imshow(f3[0, : , :, CONVOLUTION_NUMBER], cmap='inferno')\n",
        "  axarr[2,x].grid(False)"
      ],
      "metadata": {
        "colab": {
          "base_uri": "https://localhost:8080/",
          "height": 268
        },
        "id": "1ZxSyEzYgNM5",
        "outputId": "a9d33b9f-3a0e-4717-b323-12c3f45a272e"
      },
      "execution_count": null,
      "outputs": [
        {
          "output_type": "display_data",
          "data": {
            "text/plain": [
              "<Figure size 432x288 with 12 Axes>"
            ],
            "image/png": "[encoded data removed]"
          },
          "metadata": {
            "needs_background": "light"
          }
        }
      ]
    },
    {
      "cell_type": "markdown",
      "source": [
        "##EXERCISES\n",
        "\n",
        "1.Try editing the convolutions. Change the 32s to either 16 or 64. What impact will this have on accuracy and/or training time.\n",
        "\n",
        "2.Remove the final Convolution. What impact will this have on accuracy or training time?\n",
        "\n",
        "3.How about adding more Convolutions? What impact do you think this will have? Experiment with it.\n",
        "\n",
        "4.Remove all Convolutions but the first. What impact do you think this will have? Experiment with it.\n",
        "\n",
        "5.In the previous lesson you implemented a callback to check on the loss function and to cancel training once it hit a certain amount. See if you can implement that here.\n"
      ],
      "metadata": {
        "id": "Nxns0xMGgjpD"
      }
    },
    {
      "cell_type": "markdown",
      "source": [
        "Lets solve these ......................\n",
        "\n",
        "#1 "
      ],
      "metadata": {
        "id": "pLx-LZ8Eg4-d"
      }
    },
    {
      "cell_type": "code",
      "source": [
        "# reDefine the model\n",
        "model = tf.keras.models.Sequential([\n",
        "                                                         \n",
        "  # Add convolutions and max pooling\n",
        "  tf.keras.layers.Conv2D(64, (3,3), activation='relu', input_shape=(28, 28, 1)), #for now just think values are put as randomly\n",
        "  tf.keras.layers.MaxPooling2D(2, 2),\n",
        "  tf.keras.layers.Conv2D(64, (3,3), activation='relu'), #32 is replaced by 64\n",
        "  tf.keras.layers.MaxPooling2D(2,2),\n",
        "\n",
        "  # Add the same layers as before,yes these layers will be same as above\n",
        "  tf.keras.layers.Flatten(),\n",
        "  tf.keras.layers.Dense(128, activation='relu'),\n",
        "  tf.keras.layers.Dense(10, activation='softmax')\n",
        "])\n",
        "\n",
        "#compiling the new model\n",
        "model.compile(optimizer='adam',loss='sparse_categorical_crossentropy',metrics=['accuracy'])\n",
        "\n",
        "# Train the model\n",
        "print(f'\\nMODEL TRAINING:')\n",
        "model.fit(training_images, training_labels, epochs=5)\n",
        "\n",
        "# Evaluate on the test set\n",
        "print(f'\\nMODEL EVALUATION:')\n",
        "test_loss = model.evaluate(test_images, test_labels)\n",
        "\n"
      ],
      "metadata": {
        "colab": {
          "base_uri": "https://localhost:8080/"
        },
        "id": "DYQPPqyXgSD_",
        "outputId": "d3eb2a57-7c79-4680-95f3-0056fe9cc36b"
      },
      "execution_count": null,
      "outputs": [
        {
          "output_type": "stream",
          "name": "stdout",
          "text": [
            "\n",
            "MODEL TRAINING:\n",
            "Epoch 1/5\n",
            "1875/1875 [==============================] - 89s 47ms/step - loss: 0.1194 - accuracy: 0.9631\n",
            "Epoch 2/5\n",
            "1875/1875 [==============================] - 87s 47ms/step - loss: 0.0417 - accuracy: 0.9873\n",
            "Epoch 3/5\n",
            "1875/1875 [==============================] - 85s 46ms/step - loss: 0.0267 - accuracy: 0.9918\n",
            "Epoch 4/5\n",
            "1875/1875 [==============================] - 86s 46ms/step - loss: 0.0198 - accuracy: 0.9932\n",
            "Epoch 5/5\n",
            "1875/1875 [==============================] - 87s 46ms/step - loss: 0.0140 - accuracy: 0.9958\n",
            "\n",
            "MODEL EVALUATION:\n",
            "313/313 [==============================] - 4s 13ms/step - loss: 0.0274 - accuracy: 0.9914\n"
          ]
        }
      ]
    },
    {
      "cell_type": "markdown",
      "source": [
        "32 is increased to 64 in both Conv2d layers\n",
        "\n",
        "And what about the net accuracy , initially with 5 epochs and 32 Conv2d layers it was nearly 98.94% and now it is 99.14%. \n",
        "\n",
        "\n"
      ],
      "metadata": {
        "id": "wAFXDOpwhkwz"
      }
    },
    {
      "cell_type": "code",
      "source": [
        "# reDefine the model\n",
        "model = tf.keras.models.Sequential([\n",
        "                                                         \n",
        "  # Add convolutions and max pooling\n",
        "  tf.keras.layers.Conv2D(16, (3,3), activation='relu', input_shape=(28, 28, 1)), #for now just think values are put as randomly\n",
        "  tf.keras.layers.MaxPooling2D(2, 2),\n",
        "  tf.keras.layers.Conv2D(16, (3,3), activation='relu'), #32 is replaced by 16\n",
        "  tf.keras.layers.MaxPooling2D(2,2),\n",
        "\n",
        "  # Add the same layers as before,yes these layers will be same as above\n",
        "  tf.keras.layers.Flatten(),\n",
        "  tf.keras.layers.Dense(128, activation='relu'),\n",
        "  tf.keras.layers.Dense(10, activation='softmax')\n",
        "])\n",
        "\n",
        "#compiling the new model\n",
        "model.compile(optimizer='adam',loss='sparse_categorical_crossentropy',metrics=['accuracy'])\n",
        "\n",
        "# Train the model\n",
        "print(f'\\nMODEL TRAINING:')\n",
        "model.fit(training_images, training_labels, epochs=5)\n",
        "\n",
        "# Evaluate on the test set\n",
        "print(f'\\nMODEL EVALUATION:')\n",
        "test_loss = model.evaluate(test_images, test_labels)\n",
        "\n"
      ],
      "metadata": {
        "colab": {
          "base_uri": "https://localhost:8080/"
        },
        "id": "at-xEDJnhO1Q",
        "outputId": "a522ce3c-e0d9-4600-8d32-df614fea6ed8"
      },
      "execution_count": null,
      "outputs": [
        {
          "output_type": "stream",
          "name": "stdout",
          "text": [
            "\n",
            "MODEL TRAINING:\n",
            "Epoch 1/5\n",
            "1875/1875 [==============================] - 32s 17ms/step - loss: 0.1746 - accuracy: 0.9476\n",
            "Epoch 2/5\n",
            "1875/1875 [==============================] - 32s 17ms/step - loss: 0.0574 - accuracy: 0.9820\n",
            "Epoch 3/5\n",
            "1875/1875 [==============================] - 31s 17ms/step - loss: 0.0396 - accuracy: 0.9876\n",
            "Epoch 4/5\n",
            "1875/1875 [==============================] - 32s 17ms/step - loss: 0.0306 - accuracy: 0.9904\n",
            "Epoch 5/5\n",
            "1875/1875 [==============================] - 32s 17ms/step - loss: 0.0235 - accuracy: 0.9924\n",
            "\n",
            "MODEL EVALUATION:\n",
            "313/313 [==============================] - 2s 7ms/step - loss: 0.0348 - accuracy: 0.9887\n"
          ]
        }
      ]
    },
    {
      "cell_type": "markdown",
      "source": [
        "32 is decreased to 16 in both conv2d layers , lets see what happens next!\n",
        "As we can see the accuracy is dropped to 98%.\n",
        "\n",
        "So its pretty clear by decreasing the no. of neurons, the accuracy of the model drop.\n",
        "\n"
      ],
      "metadata": {
        "id": "cbNJOtdNjG7V"
      }
    },
    {
      "cell_type": "markdown",
      "source": [
        "#2 \n",
        "\n",
        "Remove the final Convolution. What impact will this have on accuracy or training time?"
      ],
      "metadata": {
        "id": "UK-D62VuB0D7"
      }
    },
    {
      "cell_type": "code",
      "source": [
        "# reDefine the model\n",
        "model = tf.keras.models.Sequential([\n",
        "                                                         \n",
        "  # Add convolutions and max pooling\n",
        "  tf.keras.layers.Conv2D(32, (3,3), activation='relu', input_shape=(28, 28, 1)), #for now just think values are put as randomly\n",
        "  tf.keras.layers.MaxPooling2D(2, 2),\n",
        "  # tf.keras.layers.Conv2D(32, (3,3), activation='relu'), \n",
        "  # tf.keras.layers.MaxPooling2D(2,2),\n",
        "\n",
        "# JUST REMOVING ONE OF CONV2D layer\n",
        "\n",
        "  # Add the same layers as before,yes these layers will be same as above\n",
        "  tf.keras.layers.Flatten(),\n",
        "  tf.keras.layers.Dense(128, activation='relu'),\n",
        "  tf.keras.layers.Dense(10, activation='softmax')\n",
        "])\n",
        "\n",
        "#compiling the new model\n",
        "model.compile(optimizer='adam',loss='sparse_categorical_crossentropy',metrics=['accuracy'])\n",
        "\n",
        "# Train the model\n",
        "print(f'\\nMODEL TRAINING:')\n",
        "model.fit(training_images, training_labels, epochs=5)\n",
        "\n",
        "# Evaluate on the test set\n",
        "print(f'\\nMODEL EVALUATION:')\n",
        "test_loss = model.evaluate(test_images, test_labels)\n",
        "\n"
      ],
      "metadata": {
        "colab": {
          "base_uri": "https://localhost:8080/"
        },
        "id": "bGglc56ciTw8",
        "outputId": "c14f1a56-89a9-40de-b9b4-5a3e220b1681"
      },
      "execution_count": null,
      "outputs": [
        {
          "output_type": "stream",
          "name": "stdout",
          "text": [
            "\n",
            "MODEL TRAINING:\n",
            "Epoch 1/5\n",
            "1875/1875 [==============================] - 37s 19ms/step - loss: 0.4140 - accuracy: 0.9390\n",
            "Epoch 2/5\n",
            "1875/1875 [==============================] - 38s 20ms/step - loss: 0.0714 - accuracy: 0.9791\n",
            "Epoch 3/5\n",
            "1875/1875 [==============================] - 38s 20ms/step - loss: 0.0529 - accuracy: 0.9837\n",
            "Epoch 4/5\n",
            "1875/1875 [==============================] - 37s 20ms/step - loss: 0.0406 - accuracy: 0.9878\n",
            "Epoch 5/5\n",
            "1875/1875 [==============================] - 36s 19ms/step - loss: 0.0297 - accuracy: 0.9905\n",
            "\n",
            "MODEL EVALUATION:\n",
            "313/313 [==============================] - 2s 7ms/step - loss: 0.1073 - accuracy: 0.9747\n"
          ]
        }
      ]
    },
    {
      "cell_type": "markdown",
      "source": [
        "Clearly , the accuracy is dropped. Because we removed the last layer which may make it less dense."
      ],
      "metadata": {
        "id": "_0AzUEI8Do1Y"
      }
    },
    {
      "cell_type": "markdown",
      "source": [
        "#3\n",
        "How about adding more Convolutions? What impact do you think this will have? Experiment with it."
      ],
      "metadata": {
        "id": "QliVBQBqD2Cn"
      }
    },
    {
      "cell_type": "code",
      "source": [
        "# reDefine the model\n",
        "model = tf.keras.models.Sequential([\n",
        "                                                         \n",
        "  # Add convolutions and max pooling\n",
        "  tf.keras.layers.Conv2D(32, (3,3), activation='relu', input_shape=(28, 28, 1)), #for now just think values are put as randomly\n",
        "  tf.keras.layers.MaxPooling2D(2, 2),\n",
        "  tf.keras.layers.Conv2D(32, (3,3), activation='relu'), \n",
        "  tf.keras.layers.MaxPooling2D(2,2),\n",
        "  tf.keras.layers.Conv2D(32, (3,3), activation='relu'), \n",
        "  tf.keras.layers.MaxPooling2D(2,2),\n",
        "\n",
        "# JUST REMOVING ONE OF CONV2D layer\n",
        "\n",
        "  # Add the same layers as before,yes these layers will be same as above\n",
        "  tf.keras.layers.Flatten(),\n",
        "  tf.keras.layers.Dense(128, activation='relu'),\n",
        "  tf.keras.layers.Dense(10, activation='softmax')\n",
        "])\n",
        "\n",
        "#compiling the new model\n",
        "model.compile(optimizer='adam',loss='sparse_categorical_crossentropy',metrics=['accuracy'])\n",
        "\n",
        "# Train the model\n",
        "print(f'\\nMODEL TRAINING:')\n",
        "model.fit(training_images, training_labels, epochs=5)\n",
        "\n",
        "# Evaluate on the test set\n",
        "print(f'\\nMODEL EVALUATION:')\n",
        "test_loss = model.evaluate(test_images, test_labels)\n",
        "\n"
      ],
      "metadata": {
        "colab": {
          "base_uri": "https://localhost:8080/"
        },
        "id": "f_BfMv_VCNRf",
        "outputId": "f51d40b0-e286-4f67-92e9-1b4e6abbf5fa"
      },
      "execution_count": null,
      "outputs": [
        {
          "output_type": "stream",
          "name": "stdout",
          "text": [
            "\n",
            "MODEL TRAINING:\n",
            "Epoch 1/5\n",
            "1875/1875 [==============================] - 46s 24ms/step - loss: 0.3277 - accuracy: 0.9111\n",
            "Epoch 2/5\n",
            "1875/1875 [==============================] - 45s 24ms/step - loss: 0.1113 - accuracy: 0.9668\n",
            "Epoch 3/5\n",
            "1875/1875 [==============================] - 46s 24ms/step - loss: 0.0887 - accuracy: 0.9730\n",
            "Epoch 4/5\n",
            "1875/1875 [==============================] - 46s 24ms/step - loss: 0.0701 - accuracy: 0.9786\n",
            "Epoch 5/5\n",
            "1875/1875 [==============================] - 46s 25ms/step - loss: 0.0612 - accuracy: 0.9810\n",
            "\n",
            "MODEL EVALUATION:\n",
            "313/313 [==============================] - 3s 9ms/step - loss: 0.0723 - accuracy: 0.9808\n"
          ]
        }
      ]
    },
    {
      "cell_type": "markdown",
      "source": [
        "Ok by adding more layers the accuracy go higher."
      ],
      "metadata": {
        "id": "JHcoyMFhFAcu"
      }
    },
    {
      "cell_type": "markdown",
      "source": [
        "#4 and 5"
      ],
      "metadata": {
        "id": "fgZqp2a1_ZM2"
      }
    },
    {
      "cell_type": "markdown",
      "source": [
        "![image.png](data:image/png;base64,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)"
      ],
      "metadata": {
        "id": "ehwlWyN0_da0"
      }
    },
    {
      "cell_type": "code",
      "source": [
        ""
      ],
      "metadata": {
        "id": "I74DTd6fECbg"
      },
      "execution_count": null,
      "outputs": []
    }
  ]
}